{
 "cells": [
  {
   "cell_type": "code",
   "execution_count": null,
   "metadata": {},
   "outputs": [],
   "source": []
  },
  {
   "cell_type": "markdown",
   "metadata": {},
   "source": [
    "Daily Coding Problem"
   ]
  },
  {
   "cell_type": "markdown",
   "metadata": {},
   "source": [
    "<h4> 125. Valid Palindrome </h4>\n",
    "A phrase is a palindrome if, after converting all uppercase letters into lowercase letters and removing all non-alphanumeric characters, it reads the same forward and backward. Alphanumeric characters include letters and numbers.\n",
    "Given a string s, return true if it is a palindrome, or false otherwise.\n",
    "\n",
    "Example 1:\n",
    "\n",
    "Input: s = \"A man, a plan, a canal: Panama\"\n",
    "Output: true\n",
    "Explanation: \"amanaplanacanalpanama\" is a palindrome.\n",
    "<br></br>\n",
    "Example 2:\n",
    "\n",
    "Input: s = \"race a car\"\n",
    "Output: false\n",
    "Explanation: \"raceacar\" is not a palindrome.\n",
    "<br></br>\n",
    "\n",
    "Example 3:\n",
    "\n",
    "Input: s = \" \"\n",
    "Output: true\n",
    "Explanation: s is an empty string \"\" after removing non-alphanumeric characters.\n",
    "Since an empty string reads the same forward and backward, it is a palindrome."
   ]
  },
  {
   "cell_type": "markdown",
   "metadata": {},
   "source": [
    "### My Approach ###"
   ]
  },
  {
   "cell_type": "code",
   "execution_count": 19,
   "metadata": {},
   "outputs": [
    {
     "name": "stdout",
     "output_type": "stream",
     "text": [
      "True\n",
      "False\n",
      "True\n",
      "False\n"
     ]
    }
   ],
   "source": [
    "def isPalindrome(s: str) -> bool:\n",
    "    no_space_value = s.replace(' ', '').lower()\n",
    "    \n",
    "    if not no_space_value:\n",
    "        return True\n",
    "    \n",
    "    dict = {}\n",
    "    convert_value = no_space_value\n",
    "    for letter in no_space_value:\n",
    "        if letter.isnumeric() == True:\n",
    "            continue\n",
    "        if letter.isalpha() == False:\n",
    "            convert_value = convert_value.replace(letter, '')\n",
    "    \n",
    "    if convert_value == convert_value[::-1]: #ways to reverse string\n",
    "        return True\n",
    "    else :\n",
    "        return False\n",
    "print(isPalindrome('A man, a plan, a canal: Panama'))\n",
    "print(isPalindrome('race a car'))\n",
    "print(isPalindrome(' '))\n",
    "print(isPalindrome('0P'))"
   ]
  },
  {
   "cell_type": "markdown",
   "metadata": {},
   "source": [
    "Better Approach from online using two pointer."
   ]
  },
  {
   "cell_type": "code",
   "execution_count": 22,
   "metadata": {},
   "outputs": [
    {
     "name": "stdout",
     "output_type": "stream",
     "text": [
      "True\n",
      "False\n",
      "True\n",
      "False\n"
     ]
    }
   ],
   "source": [
    "def isPalindrome(s: str) -> bool:\n",
    "    i, j = 0, len(s) - 1\n",
    "    while i < j:\n",
    "        while i < j and not s[i].isalnum(): i += 1\n",
    "        while i < j and not s[j].isalnum(): j -= 1\n",
    "\n",
    "        if s[i].lower() != s[j].lower(): return False\n",
    "        i += 1\n",
    "        j -= 1\n",
    "\n",
    "    return True\n",
    "print(isPalindrome('A man, a plan, a canal: Panama'))\n",
    "print(isPalindrome('race a car'))\n",
    "print(isPalindrome(' '))\n",
    "print(isPalindrome('0P'))"
   ]
  },
  {
   "cell_type": "markdown",
   "metadata": {},
   "source": [
    "<h4> 1. Two Sum </h4>\n",
    "Two Sum Given an array of integers nums and an integer target, return indices of the two numbers such that they add up to target. \n",
    "You may assume that each input would have exactly one solution, and you may not use the same element twice. \n",
    "You can return the answer in any order.\n",
    "\n",
    "Example 1:\n",
    "Input: nums = [2,7,11,15], target = 9\n",
    "Output: [0,1]\n",
    "Explanation: Because nums[0] + nums[1] == 9, we return [0, 1].\n",
    "<br></br>\n",
    "Example 2:\n",
    "Input: nums = [3,2,4], target = 6\n",
    "Output: [1,2]\n",
    "<br></br>\n",
    "Example 3:\n",
    "Input: nums = [3,3], target = 6\n",
    "Output: [0,1]"
   ]
  },
  {
   "cell_type": "code",
   "execution_count": 4,
   "metadata": {},
   "outputs": [
    {
     "name": "stdout",
     "output_type": "stream",
     "text": [
      "[0, 1]\n",
      "[1, 2]\n",
      "[0, 1]\n"
     ]
    }
   ],
   "source": [
    "def twoSum(nums, target):\n",
    "    \"\"\"\n",
    "    :type nums: List[int]\n",
    "    :type target: int\n",
    "    :rtype: List[int]\n",
    "    \"\"\"\n",
    "    result = target\n",
    "    for first_index in range (0, len(nums)):\n",
    "        first_n = nums[first_index]\n",
    "        for second_index in range(first_index + 1, len(nums)):\n",
    "            second_n = nums[second_index]\n",
    "            if first_n + second_n == target:\n",
    "                return [first_index, second_index]\n",
    "    return []\n",
    "\n",
    "print(twoSum(nums = [2,7,11,15], target = 9))\n",
    "print(twoSum(nums = [3,2,4], target = 6))\n",
    "print(twoSum(nums = [3,3], target = 6))"
   ]
  },
  {
   "cell_type": "markdown",
   "metadata": {},
   "source": [
    "Better Approach from online using two pointer."
   ]
  },
  {
   "cell_type": "code",
   "execution_count": 7,
   "metadata": {},
   "outputs": [
    {
     "name": "stdout",
     "output_type": "stream",
     "text": [
      "(0, 1)\n",
      "(1, 2)\n",
      "(1, 0)\n"
     ]
    }
   ],
   "source": [
    "def twoSum(nums, target):\n",
    "    \"\"\"\n",
    "    :type nums: List[int]\n",
    "    :type target: int\n",
    "    :rtype: List[int]\n",
    "    \"\"\"\n",
    "    \n",
    "    a=0\n",
    "    for i in range(len(nums)):\n",
    "        p = target-nums[i]\n",
    "        if p in nums:\n",
    "            a=nums.index(p) #get index number\n",
    "            if a==i:\n",
    "                continue\n",
    "            break\n",
    "    return i,a\n",
    "print(twoSum(nums = [2,7,11,15], target = 9))\n",
    "print(twoSum(nums = [3,2,4], target = 6))\n",
    "print(twoSum(nums = [3,3], target = 6))"
   ]
  },
  {
   "cell_type": "code",
   "execution_count": null,
   "metadata": {},
   "outputs": [],
   "source": []
  }
 ],
 "metadata": {
  "kernelspec": {
   "display_name": "Python 3",
   "language": "python",
   "name": "python3"
  },
  "language_info": {
   "codemirror_mode": {
    "name": "ipython",
    "version": 3
   },
   "file_extension": ".py",
   "mimetype": "text/x-python",
   "name": "python",
   "nbconvert_exporter": "python",
   "pygments_lexer": "ipython3",
   "version": "3.11.5"
  }
 },
 "nbformat": 4,
 "nbformat_minor": 2
}
